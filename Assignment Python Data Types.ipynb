{
 "cells": [
  {
   "cell_type": "code",
   "execution_count": 11,
   "id": "56e7836d",
   "metadata": {},
   "outputs": [
    {
     "name": "stdout",
     "output_type": "stream",
     "text": [
      "('Muhammad Eko Prambudi', 'is', True)\n",
      "Name: Muhammad Eko Prambudi\n",
      "Age: 28 (Dog Years: 196 )\n",
      "Height: 1.75 meters (Height in centimeters: 175.0 cm)\n",
      "Student: True\n",
      "<class 'str'>\n",
      "<class 'int'>\n",
      "<class 'float'>\n",
      "<class 'bool'>\n"
     ]
    }
   ],
   "source": [
    "name = 'Muhammad Eko Prambudi'\n",
    "age = 28\n",
    "dog_y = age*7\n",
    "height = 1.75\n",
    "h_cm = height*100\n",
    "is_student = True\n",
    "student_status = name, 'is', is_student\n",
    "\n",
    "print(student_status)\n",
    "print('Name:' ,name)\n",
    "print('Age:' ,age , \"(Dog Years:\", dog_y,')')\n",
    "print('Height:' ,height, 'meters',\"(Height in centimeters:\", h_cm, 'cm)')\n",
    "print('Student:', is_student)\n",
    "\n",
    "print(type(name))\n",
    "print(type(age))\n",
    "print(type(height))\n",
    "print(type(is_student))"
   ]
  },
  {
   "cell_type": "code",
   "execution_count": null,
   "id": "9b8fd6f0",
   "metadata": {},
   "outputs": [],
   "source": []
  }
 ],
 "metadata": {
  "kernelspec": {
   "display_name": "Python 3 (ipykernel)",
   "language": "python",
   "name": "python3"
  },
  "language_info": {
   "codemirror_mode": {
    "name": "ipython",
    "version": 3
   },
   "file_extension": ".py",
   "mimetype": "text/x-python",
   "name": "python",
   "nbconvert_exporter": "python",
   "pygments_lexer": "ipython3",
   "version": "3.10.9"
  }
 },
 "nbformat": 4,
 "nbformat_minor": 5
}
